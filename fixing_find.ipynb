{
 "cells": [
  {
   "cell_type": "code",
   "execution_count": null,
   "metadata": {},
   "outputs": [],
   "source": [
    "pip install Biopython"
   ]
  },
  {
   "cell_type": "code",
   "execution_count": null,
   "metadata": {},
   "outputs": [],
   "source": [
    "# import packages\n",
    "import os\n",
    "import regex as re\n",
    "from Bio.Seq import MutableSeq\n",
    "from Bio.Seq import reverse_complement\n",
    "from Bio import SeqIO"
   ]
  },
  {
   "cell_type": "code",
   "execution_count": null,
   "metadata": {},
   "outputs": [],
   "source": [
    "def guide_locator(gRNA_len,target):\n",
    "    #indexes starting pos of all PAM (NGG) sequences and then counts length of guide RNA upstream to locate starting pos of guides\n",
    "    PAM_lo = [m.start(0) for m in re.finditer(\"[ATGC]GG\",target, overlapped= True)]\n",
    "    glo = [x - gRNA_len for x in PAM_lo] \n",
    "    PAM_lo\n",
    "    glo\n",
    "\n",
    "    # finds all possible guides\n",
    "    poss_guides = []\n",
    "    for i in range(len(PAM_lo)):\n",
    "        if glo[i] >= 0:  #this is incase the PAM is too close to the beginning(guideRNA would be less than set length)\n",
    "            poss_guides.append(target[glo[i]:PAM_lo[i]])\n",
    "    return poss_guides\n"
   ]
  },
  {
   "cell_type": "code",
   "execution_count": null,
   "metadata": {},
   "outputs": [],
   "source": [
    "# START\n",
    "# Load RepeatMasker annotations\n",
    "with open(\"/home/milanamilan/design1_copy/sgRNA_design/repeatmasker.out\", \"r\") as f:\n",
    "    repeat_seq = f.readlines()"
   ]
  },
  {
   "cell_type": "code",
   "execution_count": null,
   "metadata": {},
   "outputs": [],
   "source": [
    "def fix_find(fasta_file,target_te,gRNA_len,minGC,maxGC,aligner):\n",
    "    \n",
    "    #maybe just add genome as input for this function and then parse w the parsing genome code after\n",
    "\n",
    "    # Load and Parse human genome\n",
    "    from Bio import SeqIO\n",
    "\n",
    "    # Parse the FASTA file and store the records in a list\n",
    "    records_dict = SeqIO.to_dict(SeqIO.parse(fasta_file, \"fasta\"))\n",
    "\n",
    "    \n",
    "    ##############\n",
    "\n",
    "    #Find target sequences\n",
    "    targets = []\n",
    "\n",
    "    for line in repeat_seq[3:20]:\n",
    "        fields = line.strip().split()\n",
    "\n",
    "        for single_TE in target_te:\n",
    "\n",
    "            if len(fields) > 13  and fields[9] == single_TE:\n",
    "                start = int(fields[5])\n",
    "                end = int(fields[6])\n",
    "                strand = fields[8]\n",
    "\n",
    "                for record_id, record in records_dict.items():\n",
    "                    te_seq = (record.seq[start:end])\n",
    "                    if strand == \"-\":\n",
    "                        te_seq = te_seq.reverse_complement()\n",
    "                if te_seq != '':\n",
    "                    targets.append(str(te_seq)) if str(te_seq) not in targets else None #tabbing this line 2x makes the difference between 1 seq or 705\n",
    "\n",
    "    #print (len(te_seq))\n",
    "    #print (end-start)\n",
    "    #print (te_seq)\n",
    "    #print (len(targets))\n",
    "\n",
    "    \n",
    "    ##########\n",
    "\n",
    "\n",
    "    for te in targets: \n",
    "\n",
    "        #Reverse-complement sequence\n",
    "        rev_comp_seq = reverse_complement(te)\n",
    "        (rev_comp_seq)\n",
    "\n",
    "        #locate guides in both strands\n",
    "        sense_guides= guide_locator(gRNA_len,target=te)\n",
    "        anti_guides = guide_locator(gRNA_len,target=rev_comp_seq)\n",
    "\n",
    "    #combine guides into one list\n",
    "    unfiltered_guides = sense_guides + anti_guides\n",
    "    \n",
    "    #filters guides based on GC content\n",
    "    x= GC_monitor(unfiltered_guides,minGC,maxGC)\n",
    "\n",
    "    # Write filtered guides to text file for CrispRitz Aligner\n",
    "    if aligner == \"ritz\":\n",
    "        for guide in range((len)(x)):\n",
    "            x[guide] += \"NNN\"\n",
    "\n",
    "        with open('EMX1.sgRNA.txt', 'w') as file:\n",
    "                for guide in x:\n",
    "                    file.write(guide + \"\\n\")\n",
    "\n",
    "    #Write guides to FASTA file for bowtie                \n",
    "    if aligner == \"bowtie\":\n",
    "     with open('input_guides.fasta', 'w') as input_file:\n",
    "        for i, seq in enumerate(x,1):\n",
    "            input_file.write(f'>guide_RNA_{i}\\n{seq}\\n')\n",
    "    \n",
    "    return targets"
   ]
  },
  {
   "cell_type": "code",
   "execution_count": null,
   "metadata": {},
   "outputs": [],
   "source": [
    "#this is the fix it code\n",
    "fix_find(\"/home/milanamilan/design1_copy/sgRNA_design/hg38_chr19.fna\",[\"LTR2B\",\"MIR\"],20,.4,.8,\"ritz\")"
   ]
  },
  {
   "cell_type": "code",
   "execution_count": null,
   "metadata": {},
   "outputs": [],
   "source": [
    "#result should be 6 different sequences"
   ]
  }
 ],
 "metadata": {
  "language_info": {
   "name": "python"
  },
  "orig_nbformat": 4
 },
 "nbformat": 4,
 "nbformat_minor": 2
}

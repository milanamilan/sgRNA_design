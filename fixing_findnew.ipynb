{
 "cells": [
  {
   "cell_type": "code",
   "execution_count": 2,
   "metadata": {},
   "outputs": [
    {
     "name": "stdout",
     "output_type": "stream",
     "text": [
      "Defaulting to user installation because normal site-packages is not writeable\n",
      "Requirement already satisfied: Biopython in /home/milanamilan/.local/lib/python3.10/site-packages (1.81)\n",
      "Requirement already satisfied: numpy in /home/milanamilan/.local/lib/python3.10/site-packages (from Biopython) (1.25.1)\n",
      "Note: you may need to restart the kernel to use updated packages.\n"
     ]
    }
   ],
   "source": [
    "pip install Biopython"
   ]
  },
  {
   "cell_type": "code",
   "execution_count": 3,
   "metadata": {},
   "outputs": [],
   "source": [
    "# import packages\n",
    "import os\n",
    "import regex as re\n",
    "from Bio.Seq import MutableSeq\n",
    "from Bio.Seq import reverse_complement\n",
    "from Bio import SeqIO"
   ]
  },
  {
   "cell_type": "code",
   "execution_count": 4,
   "metadata": {},
   "outputs": [],
   "source": [
    "def guide_locator(gRNA_len,target):\n",
    "    #indexes starting pos of all PAM (NGG) sequences and then counts length of guide RNA upstream to locate starting pos of guides\n",
    "    PAM_lo = [m.start(0) for m in re.finditer(\"[ATGC]GG\",target, overlapped= True)]\n",
    "    glo = [x - gRNA_len for x in PAM_lo] \n",
    "    PAM_lo\n",
    "    glo\n",
    "\n",
    "    # finds all possible guides\n",
    "    poss_guides = []\n",
    "    for i in range(len(PAM_lo)):\n",
    "        if glo[i] >= 0:  #this is incase the PAM is too close to the beginning(guideRNA would be less than set length)\n",
    "            poss_guides.append(target[glo[i]:PAM_lo[i]])\n",
    "    return poss_guides\n"
   ]
  },
  {
   "cell_type": "code",
   "execution_count": 5,
   "metadata": {},
   "outputs": [],
   "source": [
    "#RETURNS INPUT GUIDES ONLY - SHOULD GO INTO FINADALL\n",
    "#GC Content monitor\n",
    "\n",
    "def GC_monitor(guides,minGC,maxGC): \n",
    "    \n",
    "    gc_filtered_dict ={}\n",
    "    poor_gc ={}\n",
    "    for x in guides:\n",
    "        c = x.count(\"C\")\n",
    "        g = x.count(\"G\")\n",
    "\n",
    "        gc_total = g+c\n",
    "\n",
    "        total=len(x)\n",
    "\n",
    "        try:\n",
    "            gc_content = gc_total/total\n",
    "        except ZeroDivisionError:\n",
    "            gc_content = 0\n",
    "\n",
    "        if minGC < gc_content < maxGC:\n",
    "            gc_filtered_dict[x]=\"{0:.2%}\".format(gc_content)\n",
    "        else:\n",
    "            poor_gc[x]=\"{0:.2%}\".format(gc_content)\n",
    "\n",
    "    # input for aligner: #note: They are already gc filtered\n",
    "    input_guides = list(gc_filtered_dict.keys())\n",
    "\n",
    "    # count all guides rendered\n",
    "    all_guides = (len(gc_filtered_dict) +  len(poor_gc)) \n",
    "\n",
    "    return input_guides"
   ]
  },
  {
   "cell_type": "code",
   "execution_count": 6,
   "metadata": {},
   "outputs": [],
   "source": [
    "# START\n",
    "# Load RepeatMasker annotations\n",
    "with open(\"/home/milanamilan/design1_copy/sgRNA_design/repeatmasker.out\", \"r\") as f:\n",
    "    repeat_seq = f.readlines()"
   ]
  },
  {
   "cell_type": "code",
   "execution_count": 7,
   "metadata": {},
   "outputs": [],
   "source": [
    "def fix_find(fasta_file,target_te,gRNA_len,minGC,maxGC):\n",
    "    \n",
    "    #maybe just add genome as input for this function and then parse w the parsing genome code after\n",
    "\n",
    "    # Load and Parse human genome\n",
    "    from Bio import SeqIO\n",
    "\n",
    "    # Parse the FASTA file and store the records in a list\n",
    "    records_dict = SeqIO.to_dict(SeqIO.parse(fasta_file, \"fasta\"))\n",
    "\n",
    "    \n",
    "    ##############\n",
    "\n",
    "    #Find target sequences\n",
    "    targets = []\n",
    "\n",
    "    for line in repeat_seq[3:20]:\n",
    "        fields = line.strip().split()\n",
    "\n",
    "        for single_TE in target_te:\n",
    "\n",
    "            if len(fields) > 13  and fields[9] == single_TE:\n",
    "                start = int(fields[5])\n",
    "                end = int(fields[6])\n",
    "                strand = fields[8]\n",
    "\n",
    "                for record_id, record in records_dict.items():\n",
    "                    te_seq = (record.seq[start:end])\n",
    "                    if strand == \"-\":\n",
    "                        te_seq = te_seq.reverse_complement()\n",
    "                if te_seq != '':\n",
    "                    targets.append(str(te_seq)) if str(te_seq) not in targets else None #tabbing this line 2x makes the difference between 1 seq or 705\n",
    "\n",
    "    #print (len(te_seq))\n",
    "    #print (end-start)\n",
    "    #print (te_seq)\n",
    "    #print (len(targets))\n",
    "\n",
    "    \n",
    "    ##########\n",
    "\n",
    "\n",
    "    for te in targets: \n",
    "\n",
    "        #Reverse-complement sequence\n",
    "        rev_comp_seq = reverse_complement(te)\n",
    "        (rev_comp_seq)\n",
    "\n",
    "        #locate guides in both strands\n",
    "        sense_guides= guide_locator(gRNA_len,target=te)\n",
    "        anti_guides = guide_locator(gRNA_len,target=rev_comp_seq)\n",
    "\n",
    "    #combine guides into one list\n",
    "    unfiltered_guides = sense_guides + anti_guides\n",
    "    \n",
    "    #filters guides based on GC content\n",
    "    x= GC_monitor(unfiltered_guides,minGC,maxGC)\n",
    "\n",
    "    \n",
    "    return targets"
   ]
  },
  {
   "cell_type": "code",
   "execution_count": 8,
   "metadata": {},
   "outputs": [
    {
     "ename": "",
     "evalue": "",
     "output_type": "error",
     "traceback": [
      "\u001b[1;31mCannot execute code, session has been disposed. Please try restarting the Kernel."
     ]
    },
    {
     "ename": "",
     "evalue": "",
     "output_type": "error",
     "traceback": [
      "\u001b[1;31mThe Kernel crashed while executing code in the the current cell or a previous cell. Please review the code in the cell(s) to identify a possible cause of the failure. Click <a href='https://aka.ms/vscodeJupyterKernelCrash'>here</a> for more info. View Jupyter <a href='command:jupyter.viewOutput'>log</a> for further details."
     ]
    }
   ],
   "source": [
    "#this is the fix it code\n",
    "fix_find(\"/home/milanamilan/design1_copy/sgRNA_design/hg38_chr19.fna\",[\"LTR2B\"],20,.4,.8)"
   ]
  },
  {
   "cell_type": "code",
   "execution_count": null,
   "metadata": {},
   "outputs": [],
   "source": [
    "#result should be 6 different sequences"
   ]
  }
 ],
 "metadata": {
  "kernelspec": {
   "display_name": "Python 3",
   "language": "python",
   "name": "python3"
  },
  "language_info": {
   "codemirror_mode": {
    "name": "ipython",
    "version": 3
   },
   "file_extension": ".py",
   "mimetype": "text/x-python",
   "name": "python",
   "nbconvert_exporter": "python",
   "pygments_lexer": "ipython3",
   "version": "3.10.6"
  },
  "orig_nbformat": 4
 },
 "nbformat": 4,
 "nbformat_minor": 2
}
